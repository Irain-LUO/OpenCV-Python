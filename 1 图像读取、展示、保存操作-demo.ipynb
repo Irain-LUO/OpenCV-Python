{
 "cells": [
  {
   "cell_type": "markdown",
   "metadata": {},
   "source": [
    "## 图像读取、展示、保存操作-demo"
   ]
  },
  {
   "cell_type": "code",
   "execution_count": 2,
   "metadata": {},
   "outputs": [],
   "source": [
    "import cv2 as cv#opencv读取的格式是BGR\n",
    "import numpy as np"
   ]
  },
  {
   "cell_type": "markdown",
   "metadata": {},
   "source": [
    "### 1 数据读取-图像\n",
    "- cv.IMREAD_COLOR：彩色图像（默认）\n",
    "- cv.IMREAD_GRAYSCALE：灰度图像\n",
    "- cv.IMREAD_UNCHANGED：以包括alpha通道的形式加载图像。\n",
    "#### 注意\n",
    "- 除了这三个标志，您还可以分别简单地传递整数1(彩色)、0(灰度)或-1(alpha)。"
   ]
  },
  {
   "cell_type": "code",
   "execution_count": 8,
   "metadata": {},
   "outputs": [
    {
     "data": {
      "text/plain": [
       "array([[[142, 151, 160],\n",
       "        [146, 155, 164],\n",
       "        [151, 160, 170],\n",
       "        ...,\n",
       "        [156, 172, 185],\n",
       "        [155, 171, 184],\n",
       "        [154, 170, 183]],\n",
       "\n",
       "       [[108, 117, 126],\n",
       "        [112, 123, 131],\n",
       "        [118, 127, 137],\n",
       "        ...,\n",
       "        [155, 171, 184],\n",
       "        [154, 170, 183],\n",
       "        [153, 169, 182]],\n",
       "\n",
       "       [[108, 119, 127],\n",
       "        [110, 123, 131],\n",
       "        [118, 128, 138],\n",
       "        ...,\n",
       "        [156, 169, 183],\n",
       "        [155, 168, 182],\n",
       "        [154, 167, 181]],\n",
       "\n",
       "       ...,\n",
       "\n",
       "       [[162, 186, 198],\n",
       "        [157, 181, 193],\n",
       "        [142, 166, 178],\n",
       "        ...,\n",
       "        [181, 204, 206],\n",
       "        [170, 193, 195],\n",
       "        [149, 172, 174]],\n",
       "\n",
       "       [[140, 164, 176],\n",
       "        [147, 171, 183],\n",
       "        [139, 163, 175],\n",
       "        ...,\n",
       "        [169, 187, 188],\n",
       "        [125, 143, 144],\n",
       "        [106, 124, 125]],\n",
       "\n",
       "       [[154, 178, 190],\n",
       "        [154, 178, 190],\n",
       "        [121, 145, 157],\n",
       "        ...,\n",
       "        [183, 198, 200],\n",
       "        [128, 143, 145],\n",
       "        [127, 142, 144]]], dtype=uint8)"
      ]
     },
     "execution_count": 8,
     "metadata": {},
     "output_type": "execute_result"
    }
   ],
   "source": [
    "# https://docs.opencv.org/4.2.0/d4/da8/group__imgcodecs.html#ga288b8b3da0892bd651fce07b3bbd3a56\n",
    "img1=cv.imread('cat.jpg')\n",
    "img1"
   ]
  },
  {
   "cell_type": "code",
   "execution_count": 7,
   "metadata": {},
   "outputs": [
    {
     "data": {
      "text/plain": [
       "array([[153, 157, 162, ..., 174, 173, 172],\n",
       "       [119, 124, 129, ..., 173, 172, 171],\n",
       "       [120, 124, 130, ..., 172, 171, 170],\n",
       "       ...,\n",
       "       [187, 182, 167, ..., 202, 191, 170],\n",
       "       [165, 172, 164, ..., 185, 141, 122],\n",
       "       [179, 179, 146, ..., 197, 142, 141]], dtype=uint8)"
      ]
     },
     "execution_count": 7,
     "metadata": {},
     "output_type": "execute_result"
    }
   ],
   "source": [
    "img2=cv2.imread('cat.jpg',0) # 加载彩色灰度图像\n",
    "img2"
   ]
  },
  {
   "cell_type": "markdown",
   "metadata": {},
   "source": [
    "### 2 显示图像\n",
    "- 使用函数**cv.imshow()**在窗口中显示图像。窗口自动适合图像尺寸。\n",
    "- 第一个参数是窗口名称，它是一个字符串。第二个参数是我们的对象。你可以根据需要创建任意多个窗口，但可以使用不同的窗口名称。"
   ]
  },
  {
   "cell_type": "code",
   "execution_count": null,
   "metadata": {},
   "outputs": [],
   "source": [
    "# https://docs.opencv.org/4.2.0/d7/dfc/group__highgui.html#ga453d42fe4cb60e5723281a89973ee563\n",
    "cv2.imshow('image',img1) \n",
    "# https://docs.opencv.org/4.2.0/d7/dfc/group__highgui.html#ga5628525ad33f52eab17feebcfba38bd7\n",
    "cv2.waitKey(0) # 等待时间，毫秒级，0表示任意键终止\n",
    "# https://docs.opencv.org/4.2.0/d7/dfc/group__highgui.html#ga6b7fc1c1a8960438156912027b38f481\n",
    "cv2.destroyAllWindows()"
   ]
  },
  {
   "cell_type": "code",
   "execution_count": 10,
   "metadata": {},
   "outputs": [],
   "source": [
    "# https://docs.opencv.org/4.2.0/d7/dfc/group__highgui.html#ga5afdf8410934fd099df85c75b2e0888b\n",
    "cv2.namedWindow('image',cv2.WINDOW_NORMAL) # 创建窗口，名称为image\n",
    "cv2.imshow('image',img1)\n",
    "cv2.waitKey(0)\n",
    "cv2.destroyAllWindows()"
   ]
  },
  {
   "cell_type": "markdown",
   "metadata": {},
   "source": [
    "### 3 保存图片"
   ]
  },
  {
   "cell_type": "code",
   "execution_count": 5,
   "metadata": {},
   "outputs": [
    {
     "data": {
      "text/plain": [
       "True"
      ]
     },
     "execution_count": 5,
     "metadata": {},
     "output_type": "execute_result"
    }
   ],
   "source": [
    "# https://docs.opencv.org/4.2.0/d4/da8/group__imgcodecs.html#gabbc7ef1aa2edfaa87772f1202d67e0ce\n",
    "cv2.imwrite('mycat1.png',img) # 以png格式存储"
   ]
  },
  {
   "cell_type": "markdown",
   "metadata": {},
   "source": [
    "### 4 小试牛刀\n",
    "- 下面的程序加载灰度图像，显示它，保存图像，如果你按's'和退出，或简单地退出不保存，如果你按ESC键。\n",
    "#### 警告 \n",
    "- 如果您使用的是 64 位计算机，则必须修改 k = cv.waitkey（0） 行，如下所示： k = cv.waitkey（0） = 0xFF"
   ]
  },
  {
   "cell_type": "code",
   "execution_count": 4,
   "metadata": {},
   "outputs": [],
   "source": [
    "import numpy as np\n",
    "import cv2 as cv\n",
    "img = cv.imread('dog.jpg',0)\n",
    "cv.imshow('image',img)\n",
    "k = cv.waitKey(0)\n",
    "if k == 27:         # 等待 ESC 键退出\n",
    "    cv.destroyAllWindows()\n",
    "elif k == ord('s'): # 等待\"s\"键保存和退出\n",
    "    cv.imwrite('doggray.png',img)\n",
    "    cv.destroyAllWindows()"
   ]
  },
  {
   "cell_type": "markdown",
   "metadata": {},
   "source": [
    "### 5 使用Matplotlib\n",
    "- Matplotlib 是 Python 的绘图库，为您提供了各种绘图方法。你会看到他们未来的文章。在这里，您将学习如何使用 Matplotlib 显示图像。您可以使用 Matplotlib 缩放图像、保存图像等。"
   ]
  },
  {
   "cell_type": "code",
   "execution_count": 7,
   "metadata": {},
   "outputs": [
    {
     "data": {
      "image/png": "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
